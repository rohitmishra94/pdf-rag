{
 "cells": [
  {
   "cell_type": "code",
   "execution_count": 89,
   "id": "b638ea3f-5faa-44d6-8b4f-b732106ab9f3",
   "metadata": {},
   "outputs": [],
   "source": [
    "# pip install openai chromadb sentence-transformers FlagEmbedding pymupdf4llm tenacity python-dotenv"
   ]
  },
  {
   "cell_type": "code",
   "execution_count": 132,
   "id": "8c32b3dc-6f09-4d2f-82a8-f204b58a782d",
   "metadata": {},
   "outputs": [],
   "source": [
    "# pip show openai chromadb sentence-transformers FlagEmbedding pymupdf4llm tenacity python-dotenv"
   ]
  },
  {
   "cell_type": "code",
   "execution_count": 2,
   "id": "3b04844d-d8f5-4d02-8028-f0930f7c028c",
   "metadata": {},
   "outputs": [],
   "source": [
    "from dotenv import load_dotenv"
   ]
  },
  {
   "cell_type": "code",
   "execution_count": 3,
   "id": "d32128ea-d243-4afc-8f90-96d1afd9df73",
   "metadata": {},
   "outputs": [
    {
     "data": {
      "text/plain": [
       "True"
      ]
     },
     "execution_count": 3,
     "metadata": {},
     "output_type": "execute_result"
    }
   ],
   "source": [
    "load_dotenv('env')"
   ]
  },
  {
   "cell_type": "code",
   "execution_count": 4,
   "id": "7420c0f9-9c12-4cb8-8195-a1e50acee596",
   "metadata": {},
   "outputs": [
    {
     "data": {
      "application/vnd.jupyter.widget-view+json": {
       "model_id": "68f165bd9f434c22918c62a81026b836",
       "version_major": 2,
       "version_minor": 0
      },
      "text/plain": [
       "Fetching 30 files:   0%|          | 0/30 [00:00<?, ?it/s]"
      ]
     },
     "metadata": {},
     "output_type": "display_data"
    },
    {
     "name": "stderr",
     "output_type": "stream",
     "text": [
      "/usr/local/lib/python3.10/dist-packages/torch/_utils.py:831: UserWarning: TypedStorage is deprecated. It will be removed in the future and UntypedStorage will be the only storage class. This should only matter to you if you are using storages directly.  To access UntypedStorage directly, use tensor.untyped_storage() instead of tensor.storage()\n",
      "  return self.fget.__get__(instance, owner)()\n"
     ]
    },
    {
     "data": {
      "application/vnd.jupyter.widget-view+json": {
       "model_id": "3e072d388a4243238dba3ff4d8758fb8",
       "version_major": 2,
       "version_minor": 0
      },
      "text/plain": [
       "tokenizer_config.json:   0%|          | 0.00/1.17k [00:00<?, ?B/s]"
      ]
     },
     "metadata": {},
     "output_type": "display_data"
    },
    {
     "data": {
      "application/vnd.jupyter.widget-view+json": {
       "model_id": "c7a017da1dd341a0aadf184a1f5ac5a1",
       "version_major": 2,
       "version_minor": 0
      },
      "text/plain": [
       "sentencepiece.bpe.model:   0%|          | 0.00/5.07M [00:00<?, ?B/s]"
      ]
     },
     "metadata": {},
     "output_type": "display_data"
    },
    {
     "data": {
      "application/vnd.jupyter.widget-view+json": {
       "model_id": "6835d9f2ffc74a849ed25f74b9ac1c20",
       "version_major": 2,
       "version_minor": 0
      },
      "text/plain": [
       "tokenizer.json:   0%|          | 0.00/17.1M [00:00<?, ?B/s]"
      ]
     },
     "metadata": {},
     "output_type": "display_data"
    },
    {
     "data": {
      "application/vnd.jupyter.widget-view+json": {
       "model_id": "a34bf53b51574d4496e0a4f190b831d4",
       "version_major": 2,
       "version_minor": 0
      },
      "text/plain": [
       "special_tokens_map.json:   0%|          | 0.00/964 [00:00<?, ?B/s]"
      ]
     },
     "metadata": {},
     "output_type": "display_data"
    },
    {
     "data": {
      "application/vnd.jupyter.widget-view+json": {
       "model_id": "ee3909762a01473d991a97887fb27de6",
       "version_major": 2,
       "version_minor": 0
      },
      "text/plain": [
       "config.json:   0%|          | 0.00/795 [00:00<?, ?B/s]"
      ]
     },
     "metadata": {},
     "output_type": "display_data"
    },
    {
     "data": {
      "application/vnd.jupyter.widget-view+json": {
       "model_id": "f47532eeed524cbaaa74fc802e2d4d53",
       "version_major": 2,
       "version_minor": 0
      },
      "text/plain": [
       "model.safetensors:   0%|          | 0.00/2.27G [00:00<?, ?B/s]"
      ]
     },
     "metadata": {},
     "output_type": "display_data"
    }
   ],
   "source": [
    "# from sentence_transformers import SentenceTransformer\n",
    "from chromadb.utils import embedding_functions\n",
    "from FlagEmbedding import FlagReranker\n",
    "import chromadb\n",
    "from chromadb import Documents, EmbeddingFunction, Embeddings\n",
    "from FlagEmbedding import BGEM3FlagModel\n",
    "import pymupdf4llm\n",
    "from tqdm import tqdm\n",
    "\n",
    "from tenacity import retry, wait_random_exponential, stop_after_attempt\n",
    "from tqdm import tqdm\n",
    "from openai import OpenAI, AsyncOpenAI\n",
    "import os\n",
    "from typing import List, Dict, Any, Optional\n",
    "import logging.config\n",
    "import json\n",
    "\n",
    "\n",
    "\n",
    "def embedding_function_bge(text_list):\n",
    "    return model.encode(text_list, return_dense=True)['dense_vecs']\n",
    "\n",
    "\n",
    "\n",
    "class MyEmbeddingFunction(EmbeddingFunction):\n",
    "    def __call__(self, input: Documents) -> Embeddings:\n",
    "        embeddings = embedding_function_bge(input)\n",
    "        return embeddings\n",
    "\n",
    "\n",
    "\n",
    "\n",
    "logger = logging.getLogger(__name__)\n",
    "AsyncClient = AsyncOpenAI()\n",
    "\n",
    "model = BGEM3FlagModel('BAAI/bge-m3',  use_fp16=True) \n",
    "default_ef = MyEmbeddingFunction()\n",
    "client = chromadb.PersistentClient(path=\"chromadb_folder\")\n",
    "# chroma_client = chromadb.HttpClient(host='localhost', port=8000)\n",
    "# collection = client.get_or_create_collection(name=\"db_v3\",embedding_function=default_ef)\n",
    "reranker = FlagReranker('BAAI/bge-reranker-v2-m3', use_fp16=True)\n",
    "\n"
   ]
  },
  {
   "cell_type": "code",
   "execution_count": 10,
   "id": "99fcaad4-cfec-44f0-9412-db06afb731fb",
   "metadata": {},
   "outputs": [],
   "source": [
    "def embedding_function_bge(text_list):\n",
    "    return model.encode(text_list, return_dense=True)['dense_vecs']\n",
    "\n",
    "\n",
    "\n",
    "class MyEmbeddingFunction(EmbeddingFunction):\n",
    "    def __call__(self, input: Documents) -> Embeddings:\n",
    "        embeddings = embedding_function_bge(input)\n",
    "        return embeddings\n",
    "\n",
    "\n",
    "def process_texts(texts, chunk_size=100, overlap=30):\n",
    "    \"\"\"Process a list of texts, splitting them into chunks of specified size with overlap, \n",
    "    and accumulating shorter texts.\"\"\"\n",
    "    accumulated_words = []  # Accumulate words from texts shorter than chunk_size\n",
    "    final_chunks = []  # Store the final chunks of text\n",
    "\n",
    "    for text in texts.split():\n",
    "        accumulated_words.append(text)\n",
    "\n",
    "        while len(accumulated_words) >= chunk_size:\n",
    "            # Take the first chunk_size words for the current chunk\n",
    "            chunk = \" \".join(accumulated_words[:chunk_size])\n",
    "            final_chunks.append(chunk)\n",
    "            # Remove words from the start of the accumulated_words, considering overlap\n",
    "            accumulated_words = accumulated_words[chunk_size - overlap:]\n",
    "    \n",
    "    # If there are any remaining words, form the last chunk\n",
    "    if accumulated_words:\n",
    "        final_chunks.append(\" \".join(accumulated_words))\n",
    "    \n",
    "    return final_chunks\n",
    "\n",
    "def get_pdf_collection(pdf_path):\n",
    "    \"\"\"\n",
    "    Process a PDF file and add its chunks to a collection.\n",
    "    \n",
    "    Args:\n",
    "        pdf_path: Path to the PDF file\n",
    "        collection: The collection object to add documents to\n",
    "    \"\"\"\n",
    "    md_text = pymupdf4llm.to_markdown(pdf_path,show_progress=True)\n",
    "    all_chunks = process_texts(md_text, chunk_size=500, overlap=50)\n",
    "    \n",
    "    global collection\n",
    "    collection = client.get_or_create_collection(name=pdf_path,embedding_function=default_ef)\n",
    "    try:\n",
    "        for idx, chunk in tqdm(enumerate(all_chunks)):\n",
    "            id_ = str(idx)\n",
    "            collection.add(\n",
    "                documents=[chunk],\n",
    "                ids=[id_]\n",
    "            )\n",
    "\n",
    "        return 'success'\n",
    "    except Exception as e:\n",
    "        logger.error(f\"Error generating response: {str(e)}\", exc_info=True)\n",
    "        return f'Sorry for inconvenience. Please contact support.'\n",
    "\n",
    "def get_unique_text_indices(text_list):\n",
    "    unique_texts = {}\n",
    "    unique_indices = []\n",
    "    \n",
    "    for i, text in enumerate(text_list):\n",
    "        if text not in unique_texts:\n",
    "            unique_texts[text] = i\n",
    "            unique_indices.append(i)\n",
    "    \n",
    "    return unique_indices\n",
    "\n",
    "\n",
    "def get_context(query,n_results=5,top_results=1,threshold = 0.5):\n",
    "    result = collection.query(query_texts = query,n_results=n_results)\n",
    "    ## reranker\n",
    "    texts = result['documents'][0]\n",
    "    unique_indices = get_unique_text_indices(texts)\n",
    "    pairs = [[query,texts[x]] for x in unique_indices]\n",
    "    scores = reranker.compute_score(pairs, normalize=True)\n",
    "    ## colbert\n",
    "    query_col = model.encode([query],return_colbert_vecs=True)\n",
    "    docs_col = model.encode(result['documents'][0],return_colbert_vecs=True)\n",
    "    colber_scores = []\n",
    "    for vectors in docs_col['colbert_vecs']:\n",
    "        colber_scores.append(model.colbert_score(query_col['colbert_vecs'][0],vectors).numpy())\n",
    "\n",
    "    ## combined+score\n",
    "    all_score = [scores[i]+colber_scores[i] for i in range(len(scores))]\n",
    "\n",
    "    valid_indices = [unique_indices[idx] for idx,i in enumerate(all_score) if i>threshold]\n",
    "    data = [result['documents'][0][index] for index in valid_indices][:top_results]\n",
    "\n",
    "    return data\n",
    "\n",
    "def get_full_context(query,top=2):\n",
    "    result = collection.query(query_texts = query,n_results=5)\n",
    "    texts = result['documents'][0]\n",
    "    ids = result['ids'][0]\n",
    "    unique_indices = get_unique_text_indices(texts)\n",
    "    unique_docs = [texts[x] for x in unique_indices]\n",
    "    unique_ids = [ids[x] for x in unique_indices]\n",
    "    ## colbert\n",
    "    query_col = model.encode([query],return_colbert_vecs=True)\n",
    "    docs_col = model.encode(unique_docs,return_colbert_vecs=True)\n",
    "    colber_scores = []\n",
    "    for vectors in docs_col['colbert_vecs']:\n",
    "        colber_scores.append(model.colbert_score(query_col['colbert_vecs'][0],vectors).numpy())\n",
    "    \n",
    "    ## full_context_colbert\n",
    "    full_context_scores = []\n",
    "    full_context_ids = []\n",
    "    for id in unique_ids:\n",
    "        pre_id,post_id = str(int(id)-1), str(int(id)+1)\n",
    "        # print(pre_id,id,post_id)\n",
    "        full_context_ids.append([pre_id,id,post_id])\n",
    "        full_context=collection.get(ids=[f'{pre_id}',f'{id}',f'{post_id}'])['documents']\n",
    "        full_context = ''.join(full_context)\n",
    "        full_context_colber_vec = model.encode([full_context],return_colbert_vecs=True)\n",
    "        full_context_colber_score = model.colbert_score(query_col['colbert_vecs'][0],full_context_colber_vec['colbert_vecs'][0]).numpy()\n",
    "    \n",
    "        full_context_scores.append(full_context_colber_score)\n",
    "    \n",
    "    all_scores = [2*full_context_scores[i]+0.9*colber_scores[i] for i in range(len(colber_scores))]\n",
    "    sorted_indices = [index for index, _ in sorted(enumerate(all_scores), key=lambda x: x[1], reverse=True)]\n",
    "    top_context_ids_list = [full_context_ids[index] for index in sorted_indices][:top]\n",
    "    flattened_list = np.array(top_context_ids_list).flatten().tolist()\n",
    "    top_ids = list(set(flattened_list))\n",
    "    top_context = collection.get(ids=top_ids)['documents']\n",
    "\n",
    "    return top_context, top_ids\n",
    "\n",
    "\n",
    "async def generate_response(params: Dict[str, Any]) -> Any:\n",
    "    \"\"\"Generate response using OpenAI API with error handling and logging.\"\"\"\n",
    "    try:\n",
    "        logger.info(f\"Generating response with model: {params.get('model')}\")\n",
    "        response = await AsyncClient.chat.completions.create(**params)\n",
    "        logger.info(\"Response generated successfully\")\n",
    "        return response\n",
    "    except Exception as e:\n",
    "        logger.error(f\"Error generating response: {str(e)}\", exc_info=True)\n",
    "        return f'Sorry for inconvenience. Please contact support.'\n",
    "\n",
    "@retry(wait=wait_random_exponential(min=1, max=40), stop=stop_after_attempt(3))\n",
    "async def chat_completion_request(messages: List[Dict], model='gpt-4o-mini') -> Any:\n",
    "    \"\"\"Make a chat completion request with retry logic.\"\"\"\n",
    "    try:\n",
    "        params = {\n",
    "            'messages': messages,\n",
    "            'max_tokens': 500,\n",
    "            'model': model,\n",
    "            'temperature': 0,\n",
    "            'response_format': {\"type\": \"json_object\"}\n",
    "        }\n",
    "\n",
    "        response = await generate_response(params)\n",
    "        return response\n",
    "    except Exception as e:\n",
    "        logger.error(f\"Chat completion request failed: {str(e)}\", exc_info=True)\n",
    "        raise\n",
    "\n",
    "\n",
    "async def get_answer(query):\n",
    "    context = get_context(query,n_results=5,top_results=2,threshold = 0.5)\n",
    "    \n",
    "    user_query = f'Based on below CONTEXT {context} ANSWER the query {query}'\n",
    "    msg = [{\"role\": \"system\", \"content\": system_instruction},{\"role\": \"system\", \"content\": user_query}]\n",
    "    \n",
    "    response = await chat_completion_request(msg)\n",
    "    output = json.loads(response.choices[0].message.content)\n",
    "\n",
    "    return output\n"
   ]
  },
  {
   "cell_type": "code",
   "execution_count": 9,
   "id": "56f5bad7-81e7-444e-83f0-adb1dfdd42ee",
   "metadata": {},
   "outputs": [
    {
     "data": {
      "text/plain": [
       "'# Zania, Inc.\\n\\n## Zania Employee Handbook\\n\\n September 07, 2023\\n\\n\\n-----\\n\\n### TABLE OF CONTENTS\\n\\n**COR'"
      ]
     },
     "execution_count": 9,
     "metadata": {},
     "output_type": "execute_result"
    }
   ],
   "source": [
    "md_text = pymupdf4llm.to_markdown('handbook.pdf', show_progress=False)\n",
    "md_text[:100]"
   ]
  },
  {
   "cell_type": "code",
   "execution_count": 11,
   "id": "ad1b8002-cf3a-4531-9ff9-8fad8532bc6f",
   "metadata": {},
   "outputs": [
    {
     "name": "stdout",
     "output_type": "stream",
     "text": [
      "Processing handbook.pdf...\n",
      "[                                        ] (0/46[                                        ] ( 1/46[=                                       ] ( 2/4[==                                      ] ( 3/46[===                                     ] ( 4/4[====                                    ] ( 5/46[=====                                   ] ( 6/4[======                                  ] ( 7/4[======                                  ] ( 8/46[=======                                 ] ( 9/4[========                                ] (10/46[=========                               ] (11/4[==========                              ] (12/46[===========                             ] (13/4[============                            ] (14/46[=============                           ] (15/46[=============                           ] (16/4[==============                          ] (17/46[===============                         ] (18/4[================                        ] (19/46[=================                       ] (20/4[==================                      ] (21/46[===================                     ] (22/[====================                    ] (23/46[====================                    ] (24/46[=====================                   ] (25/4[======================                  ] (26/46[=======================                 ] (27/4[========================                ] (28/46[=========================               ] (29/4[==========================              ] (30/4[==========================              ] (31/46[===========================             ] (32/4[============================            ] (33/46[=============================           ] (34/4[==============================          ] (35/46[===============================         ] (36/4[================================        ] (37/46[=================================       ] (38/46[=================================       ] (39/4[==================================      ] (40/46[===================================     ] (41/4[====================================    ] (42/46[=====================================   ] (43/4[======================================  ] (44/46[======================================= ] (45/46[========================================] (46/46]\n"
     ]
    },
    {
     "name": "stderr",
     "output_type": "stream",
     "text": [
      "48it [00:01, 31.78it/s]\n"
     ]
    },
    {
     "data": {
      "text/plain": [
       "('success', Collection(name=handbook.pdf))"
      ]
     },
     "execution_count": 11,
     "metadata": {},
     "output_type": "execute_result"
    }
   ],
   "source": [
    "status  = get_pdf_collection('handbook.pdf')\n",
    "status, collection"
   ]
  },
  {
   "cell_type": "code",
   "execution_count": 13,
   "id": "0114ef1f-d9c7-4a6b-9d9b-40900cf24a27",
   "metadata": {},
   "outputs": [
    {
     "data": {
      "text/plain": [
       "{'ids': ['0', '1', '2', '3', '4', '5', '6', '7', '8', '9'],\n",
       " 'embeddings': array([[-0.0086441 ,  0.00251389, -0.0378418 , ...,  0.03457642,\n",
       "         -0.01916504, -0.00683594],\n",
       "        [-0.03460693, -0.01473999, -0.05102539, ...,  0.02554321,\n",
       "         -0.04699707,  0.01019287],\n",
       "        [-0.04232788,  0.01470184,  0.0131073 , ...,  0.01200104,\n",
       "         -0.0357666 , -0.01543427],\n",
       "        ...,\n",
       "        [-0.00891876,  0.00541687, -0.04766846, ..., -0.00418472,\n",
       "         -0.0350647 , -0.00565338],\n",
       "        [-0.01815796,  0.0134964 , -0.05105591, ..., -0.0153656 ,\n",
       "         -0.04806519, -0.00645828],\n",
       "        [-0.03308105,  0.00017929, -0.0536499 , ..., -0.02671814,\n",
       "         -0.06567383,  0.04888916]]),\n",
       " 'documents': [\"# Zania, Inc. ## Zania Employee Handbook September 07, 2023 ----- ### TABLE OF CONTENTS **CORE POLICIES** 4 1.0 WELCOME 4 1.1 A Welcome Policy 4 1.2 At-Will Employment 4 2.0 INTRODUCTORY LANGUAGE AND POLICIES 5 2.1 About the Company 5 2.2 Company Facilities 5 2.3 Ethics Code 5 2.4 Mission Statement 5 2.5 Our Organization 5 2.6 Revisions to Handbook 5 3.0 HIRING AND ORIENTATION POLICIES 5 3.1 Accommodations for Pregnant Employees 5 3.2 Conflicts of Interest 6 3.3 Employment Authorization Verification 6 3.4 Employment of Relatives and Friends 6 3.5 Job Descriptions 7 3.6 New Hires and Introductory Periods 7 3.7 Training Program 7 4.0 WAGE AND HOUR POLICIES 7 4.1 Attendance 7 4.2 Business Expenses 7 4.3 Direct Deposit 8 4.4 Employment Classifications 8 4.5 Introduction to Wage and Hour Policies 8 4.6 Job Abandonment 9 4.7 Paycheck Deductions 9 4.8 Recording Time 9 4.9 Travel Expenses 10 4.10 Use of Employer Credit Cards 11 5.0 PERFORMANCE, DISCIPLINE, LAYOFF, AND TERMINATION 11 5.1 Criminal Activity/Arrests 11 5.2 Disciplinary Process 11 5.3 Exit Interview 12 5.4 Open Door/Conflict Resolution Process 12 5.5 Outside Employment 12 5.6 Pay Raises 12 5.7 Performance Improvement 12 5.8 Post-Employment References 13 5.9 Promotions 13 5.10 Resignation Policy 13 5.11 Standards of Conduct 13 5.12 Transfers 14 5.13 Workforce Reductions (Layoffs) 14 6.0 GENERAL POLICIES 14 6.1 Computer Security and Copying of Software 14 6.2 Employer Sponsored Social Events 15 6.3 Employer-Provided Cell Phones/Mobile Devices 15 6.4 Nonsolicitation/Nondistribution Policy 15 6.5 Off-Duty Use of Employer Property or Premises 16 6.6 Personal Appearance 16 6.7 Personal Cell Phone/Mobile Device Use 16 6.8 Personal Data Changes 17 6.9 Security 17 6.10 Social Media 17 6.11 Third Party Disclosures 19 6.12 Use of Company Technology 19 6.13 Workplace Privacy and Right to Inspect 20 7.0 BENEFITS 20 7.1 Bereavement Leave 20 7.2 Holidays 21 7.3 Military Leave (USERRA) 21 7.4 Paid Time Off (PTO) 21 7.5 Personal Leave of Absence 23 7.6 Sick Pay 24 ----- 7.7 Vacation 24 7.8 Workers' Compensation Insurance 26 8.0 SAFETY AND LOSS PREVENTION 26 8.1 Drug and Alcohol Policy 26 8.2 General Safety 27 8.3 Workplace Violence 27 9.0 TRADE SECRETS AND INVENTIONS 28 9.1 Confidentiality and Nondisclosure of Trade Secrets 28 9.2 Inventions 28 **CALIFORNIA POLICIES** 29 HIRING AND ORIENTATION POLICIES 29 Accommodations for Victims of Crime or Abuse 29 Disability Accommodation 30 EEO Statement and Nonharassment Policy 31 Religious Accommodation 34 WAGE AND HOUR POLICIES 34 Accommodations for Nursing Mothers 34 Meal and Rest Periods 35 One Day Rest in Seven 36 Overtime 36 Pay Period 36 Reporting Time Pay 37 Travel Time Pay 37 Wage Disclosure Protection 37 Workday/Workweek 38 GENERAL POLICIES 38 Access to Personnel and Medical Records Files 38 Whistleblower Protections 38 BENEFITS 39 Crime Victim Leave 39 Disability Insurance 39 Jury Duty Leave 39 Paid Family Leave Insurance 40 Paid Sick Leave (Accrual Method) 40 Paid Sick Leave (Frontloading Method) 41 School Disciplinary Leave 42 Voting Leave 43 Witness Leave 43 SAFETY AND LOSS\",\n",
       "  'Medical Records Files 38 Whistleblower Protections 38 BENEFITS 39 Crime Victim Leave 39 Disability Insurance 39 Jury Duty Leave 39 Paid Family Leave Insurance 40 Paid Sick Leave (Accrual Method) 40 Paid Sick Leave (Frontloading Method) 41 School Disciplinary Leave 42 Voting Leave 43 Witness Leave 43 SAFETY AND LOSS PREVENTION 43 Heat Illness Prevention 43 Workplace Smoking 44 TRADE SECRETS AND INVENTIONS 44 Inventions 44 **CLOSING STATEMENT** 45 **ACKNOWLEDGMENT OF RECEIPT AND REVIEW** 46 ----- # Core Policies ## 1.0 Welcome #### 1.1 A Welcome Policy Welcome! You have just joined a dedicated organization. We hope that your employment with Zania, Inc. will be rewarding and challenging. We take pride in our employees as well as in the products and services we provide. The Company complies with all federal and state employment laws, and this handbook generally reflects those laws. The Company also complies with any applicable local laws, although there may not be an express written policy regarding those laws contained in the handbook. The employment policies and/or benefits summaries in this handbook are written for all employees. When questions arise concerning the interpretation of these policies as they relate to employees who are covered by a collective-bargaining agreement, the answers will be determined by reference to the actual union contract, rather than the summaries contained in this handbook. Please take the time now to read this handbook carefully. Sign the acknowledgment at the end to show that you have read, understood, and agree to the contents of this handbook, which sets out the basic rules and guidelines concerning your employment. This handbook supersedes any previously issued handbooks or policy statements dealing with the subjects discussed herein. The Company reserves the right to interpret, modify, or supplement the provisions of this handbook at any time. Neither this handbook nor any other communication by a management representative or other, whether oral or written, is intended in any way to create a contract of employment. Please understand that no employee handbook can address every situation in the work place. If you have questions about your employment or any provisions in this handbook, contact People Operations. We wish you success in your employment here at Zania, Inc.! All the best, Shruti Gupta, CEO Zania, Inc. #### 1.2 At-Will Employment Your employment with Zania, Inc. is on an \"at-will\" basis. This means your employment may be terminated at any time, with or without notice and with or without cause. Likewise, we respect your right to leave the Company at any time, with or without notice and with or without cause. Nothing in this handbook or any other Company document should be understood as creating a contract, guaranteed or continued employment, a right to termination only \"for cause,\" or any other guarantee of continued benefits or employment. Only the CEO has the authority to make promises or negotiate with regard to guaranteed or continued employment, and any such promises are only effective if placed in writing and signed by the CEO. If a',\n",
       "  'to termination only \"for cause,\" or any other guarantee of continued benefits or employment. Only the CEO has the authority to make promises or negotiate with regard to guaranteed or continued employment, and any such promises are only effective if placed in writing and signed by the CEO. If a written contract between you and the Company is inconsistent with this handbook, the written contract is controlling. Nothing in this handbook will be interpreted, applied, or enforced to interfere with, restrain, or coerce employees in the exercise of their rights under Section 7 of the National Labor Relations Act. ----- This policy may not be appropriate in its entirety for employees working in Montana. ## 2.0 Introductory Language and Policies #### 2.1 About the Company [[Add your about the company statement here.]] #### 2.2 Company Facilities [[Insert information about your company facilities here.]] #### 2.3 Ethics Code Zania, Inc. will conduct business honestly and ethically wherever operations are maintained. We strive to improve the quality of our services, products, and operations and will maintain a reputation for honesty, fairness, respect, responsibility, integrity, trust, and sound business judgment. Our managers and employees are expected to adhere to high standards of business and personal integrity as a representation of our business practices, at all times consistent with their duty of loyalty to the Company. We expect that officers, directors, and employees will not knowingly misrepresent the Company and will not speak on behalf of the Company unless specifically authorized. The confidentiality of trade secrets, proprietary information, and similar confidential commercially-sensitive information (i.e. financial or sales records/reports, marketing or business strategies/plans, product development, customer lists, patents, trademarks, etc.) about the Company or operations, or that of our customers or partners, is to be treated with discretion and only disseminated on a need-to-know basis (see policies relating to privacy). Violation of the Code of Ethics can result in discipline, up to and including termination of employment. The degree of discipline imposed may be influenced by the existence of voluntary disclosure of any ethical violation and whether or not the violator cooperated in any subsequent investigation. #### 2.4 Mission Statement [[Insert your company\\'s mission statement here.]] #### 2.5 Our Organization [[Add information about your organization or organizational chart here.]] #### 2.6 Revisions to Handbook This handbook is our attempt to keep you informed of the terms and conditions of your employment, including Zania, Inc. policies and procedures. The handbook is not a contract. The Company reserves the right to revise, add, or delete from this handbook as we determine to be in our best interest, except the policy concerning at-will employment. When changes are made to the policies and guidelines contained herein, we will endeavor to communicate them in a timely fashion, typically in a written supplement to the handbook or in a posting on company bulletin boards. ## 3.0 Hiring and Orientation Policies #### 3.1 Accommodations for Pregnant Employees Zania, Inc. will provide reasonable accommodation to pregnant employees for known limitations related to pregnancy,',\n",
       "  'to communicate them in a timely fashion, typically in a written supplement to the handbook or in a posting on company bulletin boards. ## 3.0 Hiring and Orientation Policies #### 3.1 Accommodations for Pregnant Employees Zania, Inc. will provide reasonable accommodation to pregnant employees for known limitations related to pregnancy, childbirth, or other related medical conditions in accordance with the federal Pregnant Workers Fairness Act (PWFA). ----- Examples of potential reasonable accommodations include: Seating; Closer parking; Flexible hours; Appropriately sized uniforms and safety apparel; Additional break time to use the bathroom, eat, and rest; Leave or time off to recover from childbirth; Limitations on strenuous activities; and Limitations on strenuous activities or those that involve exposure to compounds not safe for pregnancy. If you require an accommodation, notify your Manager. If the need for a particular accommodation is not obvious, you may be asked to include relevant information such as: The reason you need an accommodation. A description of the proposed accommodation. How the accommodation will address limitations caused by pregnancy, childbirth, or related medical conditions. The Company will not require you to accept any accommodation without engaging in the interactive process to accurately understand your limitations and explore potential accommodations. The Company is not required to make your specific requested accommodation and is not required to provide any accommodation that would constitute an undue hardship on the Company. If leave is provided as a reasonable accommodation, it may run concurrently with leave under the federal Family and Medical Leave Act and/or any other leave where permitted by law. The Company will comply with state or local laws that provide additional protections beyond the PWFA. The Company will not retaliate against employees who request or receive an accommodation under this policy. #### 3.2 Conflicts of Interest Zania, Inc. is concerned with conflicts of interest that create actual or potential job-related concerns, especially in the areas of confidentiality, customer relations, safety, security, and morale. If there is any actual or potential conflict of interest between you and a competitor, supplier, distributor, or contractor to the Company, you must disclose it to your Manager. If an actual or potential conflict of interest is determined to exist, the Company will take such steps as it deems necessary to reduce or eliminate this conflict. #### 3.3 Employment Authorization Verification New hires will be required to complete Section 1 of federal Form I-9 on the first day of paid employment and must present acceptable documents authorized by the U.S. Citizenship and Immigration Services proving identity and employment authorization no later than the third business day following the start of employment with Zania, Inc.. If you are currently employed and have not complied with this requirement or if your status has changed, inform your Manager. If you are authorized to work in this country for a limited period of time, you will be required to submit proof of renewed employment eligibility prior to expiration of that period to remain employed by the Company. #### 3.4 Employment',\n",
       "  'or if your status has changed, inform your Manager. If you are authorized to work in this country for a limited period of time, you will be required to submit proof of renewed employment eligibility prior to expiration of that period to remain employed by the Company. #### 3.4 Employment of Relatives and Friends We will not employ friends or relatives in circumstances where actual or potential conflicts may arise that could compromise supervision, safety, confidentiality, security, and morale at Zania, Inc.. It is your obligation to inform the Company of any such potential conflict so the Company can determine how best to respond to the particular situation. ----- #### 3.5 Job Descriptions Zania, Inc. attempts to maintain a job description for each position. If you do not have a current copy of your job description, you should request one from your Manager. Job descriptions prepared by the Company serve as an outline only. Due to business needs, you may be required to perform job duties that are not within your written job description. Furthermore, the Company may have to revise, add to, or delete from your job duties per business needs. On occasion, the Company may need to revise job descriptions with or without advance notice to employees. If you have any questions regarding your job description or the scope of your duties, please speak with your Manager. #### 3.6 New Hires and Introductory Periods The first [[insert #]] days of your employment is considered an introductory period. During this period, you will become familiar with Zania, Inc. and your job responsibilities, and we will have the opportunity to monitor the quality and value of your performance and make any necessary adjustments in your job description or responsibilities. Completion of this introductory period does not imply guaranteed or continued employment. Nothing that occurs during or after this period should be construed to change the nature of the [[\"at-will\"]] employment relationship. #### 3.7 Training Program In most cases, and for most departments, training employees is done on an individual basis by the department manager. Even if you have had previous experience in the specified functions of your job duties, it is necessary for you to learn our specific procedures, as well as the responsibilities of the specific position. If you ever feel you require additional training, consult your Manager. ## 4.0 Wage and Hour Policies #### 4.1 Attendance If you know ahead of time that you will be absent or late, provide reasonable advance notice to your Manager. You may be required to provide documentation of any medical or other excuse for being absent or late where permitted by applicable law. Zania, Inc. reserves the right to apply unused vacation, sick time, or other paid time off to unauthorized absences where permitted by applicable law. Absences resulting from approved leave, vacation, or legal requirements are exceptions to the policy. #### 4.2 Business Expenses The purpose of this policy is to define approved nontravel business expenses and the authority for incurring',\n",
       "  'sick time, or other paid time off to unauthorized absences where permitted by applicable law. Absences resulting from approved leave, vacation, or legal requirements are exceptions to the policy. #### 4.2 Business Expenses The purpose of this policy is to define approved nontravel business expenses and the authority for incurring and approving such expenses at Zania, Inc.. **_Approved business expenses are the reasonable and necessary expenses incurred by employees to achieve legitimate_** business purposes that are not covered by normal Company procurement processes. _Business Meetings (Employer-Sponsored Events and Meetings)_ The Company pays for expenses necessary to achieve a valid business purpose when meetings are held with customers, vendors, or other Company employees. The most senior Company individual present is responsible for paying for and reporting all expenses. The Company will make every effort to have a master account set up for Company-wide and large group events However if ----- you are at a small meeting or staying by yourself at a hotel, pay individually and submit for reimbursement accordingly. _Entertainment_ The Company pays for entertainment expenses only when they clearly benefit the Company, include customers, and are promotional in nature. The most senior individual present is responsible for paying for and reporting all expenses. _Technical and Training Seminars_ The Company pays for expenses associated with attendance at classes and seminars that enhance job-related skills. Prior approval must be obtained by your Manager. _Gifts_ You may present gifts only under exceptional circumstances and with prior approval of the appropriate Company officer. The Company does not reimburse costs over $25 for business gifts. _Other Expenses_ The Company will pay for postage and telephone expenses that are for business purposes. _Reporting_ Report approved expenses on the standard expense report form and include a description of the expense (which should include the date, vendor, business purpose, and a list of any attendees/participants) and a copy of the receipt. #### 4.3 Direct Deposit Zania, Inc. encourages all employees to enroll in direct deposit. If you would like to take advantage of direct deposit, ask [[appropriate person or department]] for an application form. Typically, the bank will begin the direct deposit of your payroll within 30 calendar days after you submit your completed application. If you have selected the direct deposit payroll service, a written explanation of your deductions will be provided to you on paydays in lieu of a check. #### 4.4 Employment Classifications The Company designates all employees as either exempt or nonexempt in compliance with applicable federal, state, and local law: **Exempt Employees. Exempt employees are generally paid a fixed salary and are not entitled to overtime pay.** **Nonexempt Employees. Nonexempt employees are entitled to minimum wage and overtime pay.** The Company also assigns each employee to one of the following categories: **Regular Full-Time Employees. Regular full-time employees are normally scheduled to work at least [[X]] hours per** workweek, except for approved time off. [[Full-time employees are eligible for most Company benefits.]] **Regular Part-Time Employees. Regular part-time employees are normally scheduled to work',\n",
       "  'assigns each employee to one of the following categories: **Regular Full-Time Employees. Regular full-time employees are normally scheduled to work at least [[X]] hours per** workweek, except for approved time off. [[Full-time employees are eligible for most Company benefits.]] **Regular Part-Time Employees. Regular part-time employees are normally scheduled to work [[X]] hours or less per** workweek. [[Part-time employees are not eligible for most Company benefits.]] [[Temporary/Seasonal Employees. Temporary employees are generally hired on a temporary or project-specific basis, with either full- or part-time hours. Seasonal employees are hired on a temporary basis during a time of year when extra work is available. Temporary/seasonal employees are not eligible for most Company benefits.]] You will be informed of your classification, status, and responsibilities at the time of hire and at any time your classification, status, or responsibilities change. If you have a question regarding this information, contact [[appropriate person or department]]. These classifications do not alter your employment at-will status. #### 4 5 Introduction to Wage and Hour Policies ----- At Zania, Inc., pay depends on a wide range of factors, including pay scale surveys, individual effort, profits, and market forces. If you have any questions about your compensation, including matters such as paid time off, commissions, overtime, benefits, or paycheck deductions, speak with your Manager. #### 4.6 Job Abandonment If you fail to show up for work or fail to call in with an acceptable reason for the absence for a period of [[#]] consecutive days, you will be considered to have abandoned your job and voluntarily resigned from Zania, Inc.. #### 4.7 Paycheck Deductions Zania, Inc. is required by law to make certain deductions from your pay each pay period, including deductions for federal income tax, Social Security and Medicare (FICA) taxes, [[LIST OTHER REQUIRED DEDUCTIONS: e.g., state income taxes, state unemployment taxes, state disability insurance taxes, etc.]], and any other deductions required under law or by court order for wage garnishments. The amount of your tax deductions will depend on your earnings and the information you list on your federal Form W-4 and applicable state withholding form. Permissible deductions for exempt employees may also include, but are not limited to, deductions for full-day absences for reasons other than sickness or disability and certain disciplinary suspensions. You may also authorize certain voluntary deductions from your paycheck where permissible under state law. Your deductions will be reflected in your wage statement. If you have any questions about deductions from your pay, contact your Manager. The Company will not make deductions to your pay that are prohibited by federal, state, or local law. Review your paycheck for errors each pay period and immediately report any discrepancies to your Manager. You will be reimbursed in full for any isolated, inadvertent, or improper deductions, as defined by law. If an error is found, you will receive an immediate adjustment, which will be paid no later than your next regular payday. The Company will not retaliate against employees who report erroneous deductions in accordance with',\n",
       "  'reimbursed in full for any isolated, inadvertent, or improper deductions, as defined by law. If an error is found, you will receive an immediate adjustment, which will be paid no later than your next regular payday. The Company will not retaliate against employees who report erroneous deductions in accordance with this policy. #### 4.8 Recording Time Zania, Inc. is required by applicable federal, state, and local laws to keep accurate records of hours worked by certain employees. To ensure that the Company has complete and accurate time records and that employees are paid for all hours worked, nonexempt employees are required to record all working time using Company [[time cards/time sheets/punch clock/timekeeping application/other]]. Speak with your Manager for specific instructions. You must accurately record all of your time to ensure you are paid for all hours worked, and must follow established Company procedures for recording your hours worked. Time must be recorded as follows: Immediately before starting your shift. Immediately after finishing work, before your meal period. Immediately before resuming work, after your meal period. Immediately after finishing work. Immediately before and after any other time away from work. [[Other compensable time required by state law (such as time taken waiting to undergo and undergoing mandatory screenings)]]. [[Time sheets/time cards are to be turned in to your Manager or appropriate department on (date or dates).]] [[If you are required to clock in, you should clock in no more than five minutes before the time you actually start working and clock out no later than five minutes after you actually stop working.]] Notify your Manager [[or appropriate department]] of any pay discrepancies, unrecorded or misrecorded work hours, or any ----- involuntarily missed meal or break periods. Falsifying time entries is strictly prohibited. Falsifying time entries includes working \"off the clock.\" If you falsify your own time records, or the time records of co-workers, or if you work off the clock, you will be subject to discipline up to and including termination. Immediately report to [[appropriate department]] any employee, supervisor, or manager who falsifies your time entries or encourages or requires you to falsify your time entries or work off the clock. #### 4.9 Travel Expenses The purpose of this policy is to define approved business travel expenses and the authority for incurring and approving such expenses at Zania, Inc.. Travel expenses are the reasonable and necessary expenses incurred by employees when traveling on approved Zania, Inc. business trips. Travel is limited to business activities for which other means of communication is inadequate and for which prior approval from your Manager has been received. _Advances_ The Company does not generally provide cash travel advances. Normally, you will be expected to use personal credit cards and/or your own cash and submit approved expenses on the standard Expense Report Form. _Travel Expenses_ The Company pays the actual amounts incurred for appropriate expenses when you are on travel assignments. Examples of typical expenses include the following: Airline tickets. Meals and lodging. Car rental, bus, taxi,',\n",
       "  'credit cards and/or your own cash and submit approved expenses on the standard Expense Report Form. _Travel Expenses_ The Company pays the actual amounts incurred for appropriate expenses when you are on travel assignments. Examples of typical expenses include the following: Airline tickets. Meals and lodging. Car rental, bus, taxi, parking. Telephone and fax. Laundry and dry cleaning (trips exceeding one week only, unless emergency). Business supplies and services. Associated gratuities. Other expenses necessary to achieve the business purposes. _Family Members_ The Company will pay the travel expenses of spouses or other family members only when their presence is necessary to the business purpose of the trip and when approved in advance in writing by the [[President or Chief Executive Officer]]. _Air Travel_ Use economy or tourist class airfares when traveling on Company business. In addition, private, noncommercial aircraft or chartered aircraft is not to be used, and no more than two Company officers should travel together on the same flight. Airfares are to be charged to personal credit cards and subsequently submitted for reimbursement on a monthly expense report. _Hotels_ Neither in-room movies nor refreshment bars are approved Company expenses. _Insurance_ The Company does not pay for personal travel insurance for employees. _Rental Cars_ ----- You are to use rental firms having existing relationships with the Company and, where feasible, have negotiated discount rates. Available reasonable transportation is to be used. _Personal Vehicles_ When using your own vehicle for business purposes, you must maintain insurance coverage as required by law and may not have more than [[2 points]] on your driving record. Travel between your home and primary office is not considered to be business travel. You may not use your personal vehicle for business travel without authorization. Every attempt should be made to utilize the use of courier and delivery services in order to avoid hazard of liability and the time away from work. You will be reimbursed for vehicle use at the standard IRS mileage rate. The [[President or Chief Executive Officer]] must authorize any deviation from this policy. _Reporting_ Report approved expenses and include a description of the expense, its business purpose, date, place, and the participants. _Travel Reservations_ Airline travel, rental cars, and hotels must be booked through the corporate designated travel agency in order to be reimbursed. #### 4.10 Use of Employer Credit Cards All employees in the possession of a credit card issued by Zania, Inc. will adhere to the strictest guidelines of responsibility for the protection and proper use of that card. Credit card purchases related to Company vehicle use (gas, oil, etc.) under $100 do not require prior approval. Credit card purchases for vehicle use over $100 and any other business purchases over $25 must receive prior approval from your Manager. Submit all sales receipts generated by use of the Company credit card [[weekly/monthly]] to your Manager [[or appropriate department]]. Your Company credit card may not be used for personal reasons. Use of the Company credit card is restricted to approved',\n",
       "  'purchases over $25 must receive prior approval from your Manager. Submit all sales receipts generated by use of the Company credit card [[weekly/monthly]] to your Manager [[or appropriate department]]. Your Company credit card may not be used for personal reasons. Use of the Company credit card is restricted to approved business related expenses. Any unauthorized purchases made with a credit card issued by the Company will be the cardholder\\'s responsibility. You must reimburse any such purchase to the Company within [[#]] days. Immediately report lost or stolen Company cards to your Manager. Failure to follow this policy may result in disciplinary action up to and including discharge. ## 5.0 Performance, Discipline, Layoff, and Termination #### 5.1 Criminal Activity/Arrests Zania, Inc. will report all criminal activity in accordance with applicable law. Involvement in criminal activity while employed by the Company, whether on or off Company property, may result in disciplinary action including suspension or termination of employment. You are expected to be on the job, ready to work, when scheduled. Inability to report to work as scheduled may lead to disciplinary action, up to and including termination of employment, for violation of an attendance policy or job abandonment. #### 5.2 Disciplinary Process Violation of Zania, Inc.\\'s policies or procedures may result in disciplinary action, including demotion, transfer, leave without pay, or termination of employment. The Company encourages a system of progressive discipline depending on the type of prohibited conduct. However, the Company is not required to engage in progressive discipline and may discipline or terminate employees who violate the rules of conduct or where the quality or value of their work fails to meet expectations at ----- any time. Again, any attempt at progressive discipline does not imply that your employment is anything other than on an atwill\" basis consistent with applicable law. Note that the specific terms of your employment relationship, including termination procedures, are governed by the laws of the state in which you are employed. In appropriate circumstances, management will first provide you with a verbal warning, then with one or more written warnings, and if the conduct is not sufficiently altered, eventual demotion, transfer, forced leave, or termination of employment. Your Manager will make every effort possible to allow you to respond to any disciplinary action taken. Understand that while the Company is concerned with consistent enforcement of our policies, we are not obligated to follow any disciplinary or grievance procedure and, depending on the circumstances, you may be disciplined or terminated without any prior warning or procedure. #### 5.3 Exit Interview You may be asked to participate in an exit interview when you leave Zania, Inc.. The purpose of the exit interview is to provide management with greater insight into your decision to leave employment; identify any trends requiring attention or opportunities for improvement; and to assist the Company in developing effective recruitment and retention strategies. Your cooperation in the exit interview process is appreciated. #### 5.4 Open Door/Conflict Resolution Process Zania, Inc. strives to provide'],\n",
       " 'uris': None,\n",
       " 'data': None,\n",
       " 'metadatas': [None, None, None, None, None, None, None, None, None, None],\n",
       " 'included': [<IncludeEnum.embeddings: 'embeddings'>,\n",
       "  <IncludeEnum.documents: 'documents'>,\n",
       "  <IncludeEnum.metadatas: 'metadatas'>]}"
      ]
     },
     "execution_count": 13,
     "metadata": {},
     "output_type": "execute_result"
    }
   ],
   "source": [
    "collection.peek()"
   ]
  },
  {
   "cell_type": "markdown",
   "id": "81adbb4d-4fd7-4dc6-a5fc-ed030b245341",
   "metadata": {},
   "source": [
    "## querying collection"
   ]
  },
  {
   "cell_type": "code",
   "execution_count": 17,
   "id": "0d4f0594-4cb0-4fef-b19c-af2e92291b54",
   "metadata": {},
   "outputs": [],
   "source": [
    "threshold=0.5\n",
    "query = 'What is the termination policy of the company?'\n",
    "result = collection.query(query_texts = query,n_results=5)"
   ]
  },
  {
   "cell_type": "code",
   "execution_count": 20,
   "id": "5255c5e2-c599-4324-9921-e2534902ae5f",
   "metadata": {},
   "outputs": [
    {
     "data": {
      "text/plain": [
       "([0, 1, 2, 3, 4], ['2', '27', '11', '34', '10'])"
      ]
     },
     "execution_count": 20,
     "metadata": {},
     "output_type": "execute_result"
    }
   ],
   "source": [
    "\n",
    "texts = result['documents'][0]\n",
    "ids = result['ids'][0]\n",
    "unique_indices = get_unique_text_indices(texts)\n",
    "## reranker\n",
    "# pairs = [[query,texts[x]] for x in unique_indices]\n",
    "# scores = reranker.compute_score(pairs, normalize=True)\n",
    "## colbert\n",
    "query_col = model.encode([query],return_colbert_vecs=True)\n",
    "docs_col = model.encode(result['documents'][0],return_colbert_vecs=True)\n",
    "colber_scores = []\n",
    "for vectors in docs_col['colbert_vecs']:\n",
    "    colber_scores.append(model.colbert_score(query_col['colbert_vecs'][0],vectors).numpy())\n",
    "\n",
    "## combined+score\n",
    "# all_score = [scores[i]+colber_scores[i] for i in range(len(scores))]\n",
    "\n",
    "\n",
    "valid_indices = [unique_indices[idx] for idx,i in enumerate(all_score) if i>threshold]\n",
    "valid_ids = [ids[idx] for idx,i in enumerate(all_score) if i>threshold]\n",
    "# data = [result['documents'][0][index] for index in valid_indices][:top_results]\n",
    "valid_indices,valid_ids"
   ]
  },
  {
   "cell_type": "code",
   "execution_count": 100,
   "id": "3d3270e5-8b5e-42fe-8ec9-452277e3273e",
   "metadata": {},
   "outputs": [],
   "source": [
    "def get_full_context(query,top=2):\n",
    "    result = collection.query(query_texts = query,n_results=5)\n",
    "    texts = result['documents'][0]\n",
    "    ids = result['ids'][0]\n",
    "    unique_indices = get_unique_text_indices(texts)\n",
    "    unique_docs = [texts[x] for x in unique_indices]\n",
    "    unique_ids = [ids[x] for x in unique_indices]\n",
    "    ## colbert\n",
    "    query_col = model.encode([query],return_colbert_vecs=True)\n",
    "    docs_col = model.encode(unique_docs,return_colbert_vecs=True)\n",
    "    colber_scores = []\n",
    "    for vectors in docs_col['colbert_vecs']:\n",
    "        colber_scores.append(model.colbert_score(query_col['colbert_vecs'][0],vectors).numpy())\n",
    "    \n",
    "    ## full_context_colbert\n",
    "    full_context_scores = []\n",
    "    full_context_ids = []\n",
    "    for id in unique_ids:\n",
    "        pre_id,post_id = str(int(id)-1), str(int(id)+1)\n",
    "        # print(pre_id,id,post_id)\n",
    "        full_context_ids.append([pre_id,id,post_id])\n",
    "        full_context=collection.get(ids=[f'{pre_id}',f'{id}',f'{post_id}'])['documents']\n",
    "        full_context = ''.join(full_context)\n",
    "        full_context_colber_vec = model.encode([full_context],return_colbert_vecs=True)\n",
    "        full_context_colber_score = model.colbert_score(query_col['colbert_vecs'][0],full_context_colber_vec['colbert_vecs'][0]).numpy()\n",
    "    \n",
    "        full_context_scores.append(full_context_colber_score)\n",
    "    \n",
    "    all_scores = [2*full_context_scores[i]+0.9*colber_scores[i] for i in range(len(colber_scores))]\n",
    "    sorted_indices = [index for index, _ in sorted(enumerate(all_scores), key=lambda x: x[1], reverse=True)]\n",
    "    top_context_ids_list = [full_context_ids[index] for index in sorted_indices][:top]\n",
    "    flattened_list = np.array(top_context_ids_list).flatten().tolist()\n",
    "    top_ids = list(set(flattened_list))\n",
    "    top_context = collection.get(ids=top_ids)['documents']\n",
    "\n",
    "    return top_context, top_ids\n"
   ]
  },
  {
   "cell_type": "code",
   "execution_count": 105,
   "id": "f86529a8-0425-47a0-860b-41c567d79a8c",
   "metadata": {},
   "outputs": [
    {
     "data": {
      "text/plain": [
       "['12', '11', '10', '13', '9']"
      ]
     },
     "execution_count": 105,
     "metadata": {},
     "output_type": "execute_result"
    }
   ],
   "source": [
    "query = 'What are the possible ways a person can be terminated from Zania Inc.? For example, does the company outline termination due to performance issues, misconduct, or violation of company policies? Are there provisions for termination during probation periods, layoffs, or organizational restructuring? Additionally, does Zania Inc. have specific clauses for termination due to ethical breaches, conflict of interest, or redundancy in roles? Please include details about notice periods, severance pay, and any appeals process, if applicable.'\n",
    "context, context_idx = get_full_context(query,top=2)\n",
    "context_idx"
   ]
  },
  {
   "cell_type": "code",
   "execution_count": 106,
   "id": "75d74cde-a432-4241-8ee7-08f6f58782f7",
   "metadata": {},
   "outputs": [
    {
     "data": {
      "text/plain": [
       "['purchases over $25 must receive prior approval from your Manager. Submit all sales receipts generated by use of the Company credit card [[weekly/monthly]] to your Manager [[or appropriate department]]. Your Company credit card may not be used for personal reasons. Use of the Company credit card is restricted to approved business related expenses. Any unauthorized purchases made with a credit card issued by the Company will be the cardholder\\'s responsibility. You must reimburse any such purchase to the Company within [[#]] days. Immediately report lost or stolen Company cards to your Manager. Failure to follow this policy may result in disciplinary action up to and including discharge. ## 5.0 Performance, Discipline, Layoff, and Termination #### 5.1 Criminal Activity/Arrests Zania, Inc. will report all criminal activity in accordance with applicable law. Involvement in criminal activity while employed by the Company, whether on or off Company property, may result in disciplinary action including suspension or termination of employment. You are expected to be on the job, ready to work, when scheduled. Inability to report to work as scheduled may lead to disciplinary action, up to and including termination of employment, for violation of an attendance policy or job abandonment. #### 5.2 Disciplinary Process Violation of Zania, Inc.\\'s policies or procedures may result in disciplinary action, including demotion, transfer, leave without pay, or termination of employment. The Company encourages a system of progressive discipline depending on the type of prohibited conduct. However, the Company is not required to engage in progressive discipline and may discipline or terminate employees who violate the rules of conduct or where the quality or value of their work fails to meet expectations at ----- any time. Again, any attempt at progressive discipline does not imply that your employment is anything other than on an atwill\" basis consistent with applicable law. Note that the specific terms of your employment relationship, including termination procedures, are governed by the laws of the state in which you are employed. In appropriate circumstances, management will first provide you with a verbal warning, then with one or more written warnings, and if the conduct is not sufficiently altered, eventual demotion, transfer, forced leave, or termination of employment. Your Manager will make every effort possible to allow you to respond to any disciplinary action taken. Understand that while the Company is concerned with consistent enforcement of our policies, we are not obligated to follow any disciplinary or grievance procedure and, depending on the circumstances, you may be disciplined or terminated without any prior warning or procedure. #### 5.3 Exit Interview You may be asked to participate in an exit interview when you leave Zania, Inc.. The purpose of the exit interview is to provide management with greater insight into your decision to leave employment; identify any trends requiring attention or opportunities for improvement; and to assist the Company in developing effective recruitment and retention strategies. Your cooperation in the exit interview process is appreciated. #### 5.4 Open Door/Conflict Resolution Process Zania, Inc. strives to provide',\n",
       " 'with greater insight into your decision to leave employment; identify any trends requiring attention or opportunities for improvement; and to assist the Company in developing effective recruitment and retention strategies. Your cooperation in the exit interview process is appreciated. #### 5.4 Open Door/Conflict Resolution Process Zania, Inc. strives to provide a comfortable, productive, legal, and ethical work environment. To this end, we want you to bring any problems, concerns, or grievances you have about the work place to the attention of your Manager and, if necessary, to Human Resources or upper level management. To help manage conflict resolution we have instituted the following problem solving procedure: If you believe there is inappropriate conduct or activity on the part of the Company, management, its employees, vendors, customers, or any other persons or entities related to the Company, bring your concerns to the attention of your Manager at a time and place that will allow the person to properly listen to your concern. Most problems can be resolved informally through dialogue between you and your immediate Manager. If you have already brought this matter to the attention of your Manager before and do not believe you have received a sufficient response, or if you believe that person is the source of the problem, present your concerns to Human Resources or upper level management. Describe the problem, those persons involved in the problem, efforts you have made to resolve the problem, and any suggested solution you may have. #### 5.5 Outside Employment Outside employment that creates a conflict of interest or that affects the quality or value of your work performance or availability at Zania, Inc. is prohibited. The Company recognizes that you may seek additional employment during off hours, but in all cases expects that any outside employment will not affect your attendance, job performance, productivity, work hours, or scheduling, or would otherwise adversely affect your ability to effectively perform your duties or in any way create a conflict of interest. Any outside employment that will conflict with your duties and obligations to the Company should be reported to your Manager. Failure to adhere to this policy may result in discipline up to and including termination. #### 5.6 Pay Raises Depending on financial health and other Company factors, efforts will be made to give pay raises consistent with Zania, Inc. profitability, job performance, and the consumer price index. The Company may also make individual pay raises based on merit or due to a change of job position. #### 5.7 Performance Improvement Zania, Inc. will make efforts to periodically review your work performance. The performance improvement process will take place [[annually, biannually, monthly, etc.]], or as business needs dictate. You may specifically request that your Manager assist you in developing a performance improvement plan at any time. ----- The performance improvement process is a means for increasing the quality and value of your work performance. Your initiative, effort, attitude, job knowledge, and other factors will be addressed. You must understand that a positive',\n",
       " \"that your Manager assist you in developing a performance improvement plan at any time. ----- The performance improvement process is a means for increasing the quality and value of your work performance. Your initiative, effort, attitude, job knowledge, and other factors will be addressed. You must understand that a positive job performance review does not guarantee a pay raise or continued employment. Pay raises and promotions are based on numerous factors, only one of which is job performance. #### 5.8 Post-Employment References Zania, Inc. policy is to confirm dates of employment and job title only. With written authorization, the Company will confirm compensation information when permissible by applicable law. Forward any requests for employment verification to [[Human Resources or appropriate department]]. #### 5.9 Promotions To match you with the job for which you are best suited and to meet the business needs of Zania, Inc., you may be transferred from your current job. It is our policy to promote from within only when the most qualified candidate is available. Promotions are made on an equal opportunity basis according to employees possessing the needed skills, education, experience, and other qualifications that are required for the job. [[Optional: All employees promoted into new job positions will undergo an introductory period as described in the New Hires and Introductory Periods policy. Unlike new hires, however, such employees will continue to receive Company benefits for which they are eligible.]] #### 5.10 Resignation Policy Zania, Inc. hopes that your employment with the Company will be a mutually rewarding experience; however, the Company acknowledges that varying circumstances can cause you to resign employment. The Company intends to handle any resignation in a professional manner with minimal disruption to the workplace. _Notice_ The Company requests that you provide a minimum of [[two weeks']] notice of your resignation. [[If you are a Manager, you are requested to provide a minimum of [four weeks'] notice.]] Provide a written resignation letter to your Manager. If you provide less notice than requested, the Company may deem you to be ineligible for rehire, depending on the circumstances of the notice given. The Company reserves the right to provide you with pay in lieu of notice in situations where job or business needs warrant. _Final Pay_ The Company will pay separated employees in accordance with applicable laws and other sections of this handbook. Notify the Company if your address changes during the calendar year in which resignation occurs to ensure tax information is sent to the correct address. _Return of Property_ Return all Company property at the time of separation, including [[list items to be returned, such as uniforms, cellphones, keys, tools, laptops, credit cards, and identification cards]]. Failure to return some items may result in deductions from your final paycheck where state law allows. [[In some circumstances, the Company may pursue criminal charges for failure to return Company property.]] #### 5.11 Standards of Conduct Zania, Inc. wishes to create a work environment that promotes job satisfaction, respect, responsibility, integrity, and value for\",\n",
       " 'may result in deductions from your final paycheck where state law allows. [[In some circumstances, the Company may pursue criminal charges for failure to return Company property.]] #### 5.11 Standards of Conduct Zania, Inc. wishes to create a work environment that promotes job satisfaction, respect, responsibility, integrity, and value for all our employees, clients, customers, and other stakeholders. We all share in the responsibility of improving the quality of ----- our work environment. By deciding to work here, you agree to follow our rules. While it is impossible to list everything that could be considered misconduct in the workplace, what is outlined here is a list of common-sense infractions that could result in discipline, up to and including immediate termination of employment. This policy is not intended to limit our right to discipline or discharge employees for any reason permitted by law. Examples of inappropriate conduct include: Violation of the policies and procedures set forth in this handbook. Possessing, using, distributing, selling, or negotiating the sale of illegal drugs or other controlled substances. Being under the influence of alcohol during working hours on Company property (including in Company vehicles), or on Company business. Inaccurate reporting of the hours worked by you or any other employees. Providing knowingly inaccurate, incomplete, or misleading information when speaking on behalf of the Company or in the preparation of any employment-related documents including, but not limited to, job applications, personnel files, employment review documents, intra-company communications, or expense records. Taking or destroying Company property. Possession of potentially hazardous or dangerous property (where not permitted) such as firearms, weapons, chemicals, etc., without prior authorization. Fighting with, or harassment of (as defined in our EEO policy), any fellow employee, vendor, or customer. Disclosure of Company trade secrets and proprietary and confidential commercially-sensitive information (i.e. financial or sales records/reports, marketing or business strategies/plans, product development information, customer lists, patents, trademarks, etc.) of the Company or its customers, contractors, suppliers, or vendors. Refusal or failure to follow directions or to perform a requested or required job task. Refusal or failure to follow safety rules and procedures. Excessive tardiness or absences. Smoking in nondesignated areas. Working unauthorized overtime. Solicitation of fellow employees on Company premises during working hours. Failure to dress according to Company policy. Use of obscene or harassing (as defined by our EEO policy) language in the workplace. Engaging in outside employment that interferes with your ability to perform your job at this Company. Gambling on Company premises. Lending keys or keycards to Company property to unauthorized persons. Nothing in this policy is intended to limit your rights under the National Labor Relations Act, or to modify the at-will employment status where at-will is not prohibited by state law. #### 5.12 Transfers Zania, Inc. may transfer your employment from one position to another with or without notice, as required by production or service needs, or upon request by you and with management approval. Transfers in excess of 90 days may be considered final and your paycheck may be',\n",
       " 'law. #### 5.12 Transfers Zania, Inc. may transfer your employment from one position to another with or without notice, as required by production or service needs, or upon request by you and with management approval. Transfers in excess of 90 days may be considered final and your paycheck may be increased or decreased consistent with the pay scale for your new position. #### 5.13 Workforce Reductions (Layoffs) If necessary based upon business needs, Zania, Inc. management may decide to implement a reduction in force (RIF). We acknowledge that RIFs can be a trying experience for all involved, and the Company will make its best effort to make sound business decisions while acknowledging the needs of its workforce. ## 6.0 General Policies #### 6.1 Computer Security and Copying of Software ----- Software programs purchased and provided by Zania, Inc. are to be used only for creating, researching, and processing materials for Company use. By using Company hardware, software, and networking systems you assume personal responsibility for their use and agree to comply with this policy and other applicable Company policies, as well as city, state, and federal laws and regulations. All software acquired for or on behalf of the Company, or developed by Company employees or contract personnel on behalf of the Company, is and will be deemed Company property. It is the policy of the Company to respect all computer software rights and to adhere to the terms of all software licenses to which the Company is a party. The [[Director of Information Systems]] is responsible for enforcing these guidelines. You may not illegally duplicate any licensed software or related documentation. Unauthorized duplication of software may subject you and/or the Company to both civil and criminal penalties under the United States Copyright Act. To purchase software, obtain your manager\\'s approval. All software acquired by the Company must be purchased through [[Information Systems or appropriate department]]. You may not duplicate, copy, or give software to any outsiders including clients, contractors, customers, and others. You may use software on local area networks or on multiple machines only in accordance with applicable license agreements entered into by the Company. #### 6.2 Employer Sponsored Social Events Zania, Inc. holds periodic social events for employees. Be advised that your attendance at these events is voluntary and does not constitute part of your work-related duties. Any exceptions to this policy must be in writing and signed by a Manager prior to the event. Alcoholic beverages may be available at these events. If you choose to drink alcoholic beverages, you must do so in a responsible manner. Do not drink and drive. Instead, please call a taxi or appoint a designated driver. #### 6.3 Employer-Provided Cell Phones/Mobile Devices Zania, Inc. may issue certain employees a Company cell phone/mobile device for work-related communications and/or operations. If you drive a vehicle during your employment, you may not use any cell phone/mobile device or other communication device while driving unless the device is equipped or configured with a \"hands-free\" listening/speaking']"
      ]
     },
     "execution_count": 106,
     "metadata": {},
     "output_type": "execute_result"
    }
   ],
   "source": [
    "context"
   ]
  },
  {
   "cell_type": "code",
   "execution_count": 96,
   "id": "85b00570-0be2-46c7-a0d0-5967360b84d0",
   "metadata": {},
   "outputs": [
    {
     "name": "stdout",
     "output_type": "stream",
     "text": [
      "['12', '11', '10', '9']\n"
     ]
    }
   ],
   "source": [
    "top_context_ids_list = [full_context_ids[index] for index in sorted_indices][:2]\n",
    "flattened_list = np.array(top_context_ids_list).flatten().tolist()\n",
    "\n",
    "print(list(set(flattened_list)))"
   ]
  },
  {
   "cell_type": "code",
   "execution_count": 90,
   "id": "918f861a-d955-46b0-9ca3-e759228dcf5f",
   "metadata": {},
   "outputs": [
    {
     "data": {
      "text/plain": [
       "([1.5768324792385102,\n",
       "  1.618138349056244,\n",
       "  1.6482644736766816,\n",
       "  1.3632394909858703,\n",
       "  1.6631616175174715],\n",
       " [array(0.61041826, dtype=float32),\n",
       "  array(0.57995284, dtype=float32),\n",
       "  array(0.55680984, dtype=float32),\n",
       "  array(0.58661795, dtype=float32),\n",
       "  array(0.57352144, dtype=float32)],\n",
       " [array(0.513728, dtype=float32),\n",
       "  array(0.5480904, dtype=float32),\n",
       "  array(0.5735678, dtype=float32),\n",
       "  array(0.41764167, dtype=float32),\n",
       "  array(0.57349616, dtype=float32)])"
      ]
     },
     "execution_count": 90,
     "metadata": {},
     "output_type": "execute_result"
    }
   ],
   "source": [
    "all_scores, colber_scores, full_context_scores"
   ]
  },
  {
   "cell_type": "code",
   "execution_count": 95,
   "id": "fc41c114-40d1-4e74-8b8d-822ee2be1c5c",
   "metadata": {},
   "outputs": [
    {
     "data": {
      "text/plain": [
       "\u001b[0;31mInit signature:\u001b[0m \u001b[0mset\u001b[0m\u001b[0;34m(\u001b[0m\u001b[0mself\u001b[0m\u001b[0;34m,\u001b[0m \u001b[0;34m/\u001b[0m\u001b[0;34m,\u001b[0m \u001b[0;34m*\u001b[0m\u001b[0margs\u001b[0m\u001b[0;34m,\u001b[0m \u001b[0;34m**\u001b[0m\u001b[0mkwargs\u001b[0m\u001b[0;34m)\u001b[0m\u001b[0;34m\u001b[0m\u001b[0;34m\u001b[0m\u001b[0m\n",
       "\u001b[0;31mDocstring:\u001b[0m     \n",
       "set() -> new empty set object\n",
       "set(iterable) -> new set object\n",
       "\n",
       "Build an unordered collection of unique elements.\n",
       "\u001b[0;31mType:\u001b[0m           type\n",
       "\u001b[0;31mSubclasses:\u001b[0m     ConstrainedSet, AssumptionsContext, DiophantineSolutionSet, LazySet, LazySet, LazySet"
      ]
     },
     "metadata": {},
     "output_type": "display_data"
    }
   ],
   "source": [
    "set??"
   ]
  },
  {
   "cell_type": "code",
   "execution_count": 34,
   "id": "329616f4-ead5-47bc-a3ff-bc7ea24ad715",
   "metadata": {},
   "outputs": [],
   "source": [
    "# collection.get(ids=['-1','0'])['documents']"
   ]
  },
  {
   "cell_type": "code",
   "execution_count": 44,
   "id": "582e788b-170f-4f3c-ba13-20a5391e5d4b",
   "metadata": {},
   "outputs": [
    {
     "data": {
      "text/plain": [
       "array([ 0.00892883, -0.02397711,  0.07272871, ...,  0.00454554,\n",
       "        0.00506709, -0.00931361], dtype=float32)"
      ]
     },
     "execution_count": 44,
     "metadata": {},
     "output_type": "execute_result"
    }
   ],
   "source": [
    "full_context_colber_vec['colbert_vecs'][0]"
   ]
  },
  {
   "cell_type": "code",
   "execution_count": 49,
   "id": "f1647e84-4849-48a6-ac50-68e40ca57a0d",
   "metadata": {},
   "outputs": [
    {
     "data": {
      "text/plain": [
       "array([[-0.03894951,  0.00669283, -0.03746605, ...,  0.01024624,\n",
       "         0.07320714, -0.02387339],\n",
       "       [-0.03147411,  0.00867384, -0.03654084, ...,  0.01427744,\n",
       "         0.06727675, -0.02922596],\n",
       "       [-0.01926587,  0.01374913, -0.02944535, ...,  0.01025634,\n",
       "         0.05854911, -0.01618299],\n",
       "       ...,\n",
       "       [-0.02583918,  0.01816258, -0.06434744, ..., -0.00254768,\n",
       "         0.06685262, -0.01595265],\n",
       "       [-0.03827851, -0.00435914, -0.04195703, ...,  0.00584558,\n",
       "         0.08012628, -0.0276982 ],\n",
       "       [ 0.02227906,  0.0050599 , -0.03682962, ...,  0.02933966,\n",
       "         0.02298273,  0.00760923]], dtype=float32)"
      ]
     },
     "execution_count": 49,
     "metadata": {},
     "output_type": "execute_result"
    }
   ],
   "source": [
    "query_col['colbert_vecs'][0]"
   ]
  },
  {
   "cell_type": "code",
   "execution_count": 51,
   "id": "cf425e38-d9ad-4ad7-903a-67390ef62e6d",
   "metadata": {},
   "outputs": [],
   "source": [
    "# collection.get(ids=[f'{pre_id}',f'{id}',f'{post_id}'])['documents']\n",
    "# full_context"
   ]
  },
  {
   "cell_type": "code",
   "execution_count": 59,
   "id": "29723c0b-a399-4781-9801-e415d56843c0",
   "metadata": {},
   "outputs": [
    {
     "name": "stdout",
     "output_type": "stream",
     "text": [
      "1 2 3\n",
      "0.513728\n",
      "26 27 28\n",
      "0.5480904\n",
      "10 11 12\n",
      "0.5735678\n",
      "33 34 35\n",
      "0.41764167\n",
      "9 10 11\n",
      "0.57349616\n"
     ]
    }
   ],
   "source": [
    "full_context_data = []\n",
    "full_context_scores = []\n",
    "for id in valid_ids:\n",
    "    pre_id,post_id = str(int(id)-1), (int(id)+1)\n",
    "    print(pre_id,id,post_id)\n",
    "    full_context=collection.get(ids=[f'{pre_id}',f'{id}',f'{post_id}'])['documents']\n",
    "    full_context = ''.join(full_context)\n",
    "    full_context_colber_vec = model.encode([full_context],return_colbert_vecs=True)\n",
    "    print(model.colbert_score(query_col['colbert_vecs'][0],full_context_colber_vec['colbert_vecs'][0]).numpy())\n",
    "    full_context_scores.append(model.colbert_score(query_col['colbert_vecs'][0],full_context_colber_vec['colbert_vecs'][0]).numpy())\n",
    "\n",
    "    "
   ]
  },
  {
   "cell_type": "code",
   "execution_count": 66,
   "id": "8e6e3d6b-6d25-462d-998c-ebe3c08c95d1",
   "metadata": {},
   "outputs": [
    {
     "data": {
      "text/plain": [
       "([array(0.513728, dtype=float32),\n",
       "  array(0.5480904, dtype=float32),\n",
       "  array(0.5735678, dtype=float32),\n",
       "  array(0.41764167, dtype=float32),\n",
       "  array(0.57349616, dtype=float32)],\n",
       " [array(0.61041826, dtype=float32),\n",
       "  array(0.57995284, dtype=float32),\n",
       "  array(0.55680984, dtype=float32),\n",
       "  array(0.58661795, dtype=float32),\n",
       "  array(0.57352144, dtype=float32)],\n",
       " array([1.1241462, 1.1280432, 1.1303777, 1.0042596, 1.1470176],\n",
       "       dtype=float32))"
      ]
     },
     "execution_count": 66,
     "metadata": {},
     "output_type": "execute_result"
    }
   ],
   "source": [
    "import numpy as np\n",
    "full_context_scores, colber_scores, np.sum((colber_scores,full_context_scores),axis=0)"
   ]
  },
  {
   "cell_type": "code",
   "execution_count": 55,
   "id": "b3b562f5-5fb9-4047-80d3-2a3e8d517901",
   "metadata": {},
   "outputs": [],
   "source": [
    "# collection.get(ids=['9','10','11'])['documents']\n",
    "# full_context_colber_vec['colbert_vecs'][0]"
   ]
  },
  {
   "cell_type": "code",
   "execution_count": 56,
   "id": "4cbec0a7-479c-4e0f-810d-9cc9ddb283b2",
   "metadata": {},
   "outputs": [],
   "source": [
    "# result"
   ]
  },
  {
   "cell_type": "code",
   "execution_count": 26,
   "id": "8b2387f4-3208-4326-aa35-b36976966421",
   "metadata": {},
   "outputs": [
    {
     "data": {
      "text/plain": [
       "48"
      ]
     },
     "execution_count": 26,
     "metadata": {},
     "output_type": "execute_result"
    }
   ],
   "source": [
    "# all_chunks = process_texts(md_text, chunk_size=500, overlap=50)\n",
    "# len(all_chunks)"
   ]
  },
  {
   "cell_type": "code",
   "execution_count": 111,
   "id": "6a7bc41d-70a8-4971-9647-f214abaae151",
   "metadata": {},
   "outputs": [
    {
     "data": {
      "text/plain": [
       "['pdf_path', 'handbook.pdf']"
      ]
     },
     "execution_count": 111,
     "metadata": {},
     "output_type": "execute_result"
    }
   ],
   "source": [
    "client.list_collections()"
   ]
  },
  {
   "cell_type": "code",
   "execution_count": 5,
   "id": "500b4e62-23ab-42ee-b6e2-7f586ce6822b",
   "metadata": {},
   "outputs": [],
   "source": [
    "# all_chunks[:3]"
   ]
  },
  {
   "cell_type": "code",
   "execution_count": 19,
   "id": "cd9b6b81-83db-423a-98ac-b04ef1845a64",
   "metadata": {},
   "outputs": [
    {
     "name": "stderr",
     "output_type": "stream",
     "text": [
      "You're using a XLMRobertaTokenizerFast tokenizer. Please note that with a fast tokenizer, using the `__call__` method is faster than using a method to encode the text followed by a call to the `pad` method to get a padded encoding.\n"
     ]
    },
    {
     "data": {
      "text/plain": [
       "[array([ 0.014725,  0.01081 , -0.01949 , ..., -0.02359 , -0.01715 ,\n",
       "         0.007538], dtype=float16),\n",
       " array([-0.0267  ,  0.02896 , -0.02303 , ...,  0.002542, -0.00825 ,\n",
       "         0.0432  ], dtype=float16)]"
      ]
     },
     "execution_count": 19,
     "metadata": {},
     "output_type": "execute_result"
    }
   ],
   "source": [
    "\n",
    "default_ef(['iam there','ur here'])"
   ]
  },
  {
   "cell_type": "code",
   "execution_count": 30,
   "id": "5a34c7c4-9dd6-49fd-9360-7251afdb5e48",
   "metadata": {},
   "outputs": [
    {
     "name": "stderr",
     "output_type": "stream",
     "text": [
      "48it [00:01, 31.21it/s]\n"
     ]
    }
   ],
   "source": [
    "## feed collection\n",
    "\n",
    "from tqdm import tqdm\n",
    "for idx,chunk in tqdm(enumerate(all_chunks)):\n",
    "            \n",
    "\n",
    "    id_ = str(idx)\n",
    "\n",
    "    collection.add(\n",
    "        documents=[chunk],\n",
    "        ids=[id_])"
   ]
  },
  {
   "cell_type": "code",
   "execution_count": 31,
   "id": "ade1bd22-040a-4635-afbb-e2a407caffc8",
   "metadata": {},
   "outputs": [],
   "source": [
    "query = 'What is the name of the company?'\n",
    "result = collection.query(query_texts = query,n_results=5)\n"
   ]
  },
  {
   "cell_type": "code",
   "execution_count": 59,
   "id": "fe1d4e05-0fd6-4217-aa30-5fee9092a57a",
   "metadata": {},
   "outputs": [],
   "source": [
    "def get_unique_text_indices(text_list):\n",
    "    unique_texts = {}\n",
    "    unique_indices = []\n",
    "    \n",
    "    for i, text in enumerate(text_list):\n",
    "        if text not in unique_texts:\n",
    "            unique_texts[text] = i\n",
    "            unique_indices.append(i)\n",
    "    \n",
    "    return unique_indices"
   ]
  },
  {
   "cell_type": "code",
   "execution_count": 61,
   "id": "fc422d79-1655-4299-9726-30d2e554ddfb",
   "metadata": {},
   "outputs": [
    {
     "data": {
      "text/plain": [
       "[0.030271869424597638,\n",
       " 0.01704531725343583,\n",
       " 0.027480692809582097,\n",
       " 0.020804489950607352,\n",
       " 0.008711384457705508]"
      ]
     },
     "execution_count": 61,
     "metadata": {},
     "output_type": "execute_result"
    }
   ],
   "source": [
    "texts = result['documents'][0]\n",
    "unique_indices = get_unique_text_indices(texts)\n",
    "pairs = [[query,texts[x]] for x in unique_indices]\n",
    "scores = reranker.compute_score(pairs, normalize=True)\n",
    "scores"
   ]
  },
  {
   "cell_type": "code",
   "execution_count": 43,
   "id": "26c8197b-81f1-47da-b5e6-d914bd33e23e",
   "metadata": {},
   "outputs": [],
   "source": [
    "query_col = model.encode([query],return_colbert_vecs=True)\n",
    "docs_col = model.encode(result['documents'][0],return_colbert_vecs=True)\n"
   ]
  },
  {
   "cell_type": "code",
   "execution_count": 55,
   "id": "47a0f70d-5c2f-404f-84cf-c1dfbd5debe5",
   "metadata": {},
   "outputs": [
    {
     "data": {
      "text/plain": [
       "[array(0.5121414, dtype=float32),\n",
       " array(0.50766957, dtype=float32),\n",
       " array(0.5114349, dtype=float32),\n",
       " array(0.4899619, dtype=float32),\n",
       " array(0.49647462, dtype=float32)]"
      ]
     },
     "execution_count": 55,
     "metadata": {},
     "output_type": "execute_result"
    }
   ],
   "source": [
    "colber_scores = []\n",
    "for vectors in docs_col['colbert_vecs']:\n",
    "    colber_scores.append(model.colbert_score(query_col['colbert_vecs'][0],vectors).numpy())\n",
    "colber_scores    "
   ]
  },
  {
   "cell_type": "code",
   "execution_count": 62,
   "id": "9018915a-96f9-4de8-8d04-262831d1ee5e",
   "metadata": {},
   "outputs": [
    {
     "data": {
      "text/plain": [
       "[0, 1, 2, 3, 4]"
      ]
     },
     "execution_count": 62,
     "metadata": {},
     "output_type": "execute_result"
    }
   ],
   "source": [
    "all_score = [score[i]+colber_scores[i] for i in range(len(score))]\n",
    "\n",
    "valid_indices = [unique_indices[idx] for idx,i in enumerate(all_score) if i>0.50]\n",
    "valid_indices"
   ]
  },
  {
   "cell_type": "code",
   "execution_count": 63,
   "id": "8d89033c-57d8-48fe-95ba-5c406e5ec60c",
   "metadata": {},
   "outputs": [
    {
     "data": {
      "text/plain": [
       "['Company can respond with medical attention, as appropriate. The Company will not discriminate or retaliate against employees who take preventative cool-down rest periods in accordance with this policy. #### Workplace Smoking Zania, Inc. is concerned about the effect that smoking and secondhand smoke inhalation can have on its employees and clients. Smoking in the office, client areas, and restrooms is prohibited. ## Trade Secrets and Inventions #### Inventions As necessary, employees will receive a separate notification outlining the ownership of any inventions created by them. ----- # Closing Statement Thank you for reading our handbook. We hope it has provided you with an understanding of our mission, history, and structure as well as our current policies and guidelines. We look forward to working with you to create a successful Company and a safe, productive, and pleasant workplace. Shruti Gupta, CEO Zania, Inc. ----- # Acknowledgment of Receipt and Review By signing below, I acknowledge that I have received a copy of the Zania, Inc. Employee Handbook (handbook) and that I have read it, understand it, and agree to comply with it. I understand that the Company has the maximum discretion permitted by law to interpret, administer, change, modify, or delete the rules, regulations, procedures, and benefits contained in the handbook at any time with or without notice. No statement or representation by a supervisor, manager, or any other employee, whether oral or written, can supplement or modify this handbook. Changes can only be made if approved in writing by the [[position or title]] of the Company. I also understand that any delay or failure by the Company to enforce any rule, regulation, or procedure contained in the handbook does not constitute a waiver on behalf of the Company or affect the right of the Company to enforce such rule, regulation, or procedure in the future. I understand that neither this handbook nor any other communication by a management representative or other, whether oral or written, is intended in any way to create a contract of employment. I further understand that, unless I have a written employment agreement signed by an authorized Company representative, I am employed \"at-will\" (to the extent permitted by law) and this handbook does not modify my \"at-will\" employment status. If I am covered by a written employment agreement (signed by an authorized Company representative) or a collective bargaining agreement that conflicts with the terms of this handbook, I understand that the terms of the employment agreement or collective bargaining agreement will control. This handbook is not intended to preclude or dissuade employees from engaging in legally protected activities under the National Labor Relations Act (NLRA). This handbook is not intended to violate any local, state, or federal law. No provision or policy applies or will be enforced if it conflicts with or is superseded by any requirement or prohibition contained in federal, state, or local law, or regulation. Furthermore, nothing in this handbook prohibits an employee from reporting concerns to, filing a charge or complaint with,']"
      ]
     },
     "execution_count": 63,
     "metadata": {},
     "output_type": "execute_result"
    }
   ],
   "source": [
    "data = [result['documents'][0][index] for index in valid_indices][:1]\n",
    "data"
   ]
  },
  {
   "cell_type": "code",
   "execution_count": 64,
   "id": "0655cc36-8635-4da5-b3ac-4f55da0941ad",
   "metadata": {},
   "outputs": [],
   "source": [
    "def get_context(query,n_results=5,top_results=1,threshold = 0.5):\n",
    "    result = collection.query(query_texts = query,n_results=n_results)\n",
    "    ## reranker\n",
    "    texts = result['documents'][0]\n",
    "    unique_indices = get_unique_text_indices(texts)\n",
    "    pairs = [[query,texts[x]] for x in unique_indices]\n",
    "    scores = reranker.compute_score(pairs, normalize=True)\n",
    "    ## colbert\n",
    "    query_col = model.encode([query],return_colbert_vecs=True)\n",
    "    docs_col = model.encode(result['documents'][0],return_colbert_vecs=True)\n",
    "    colber_scores = []\n",
    "    for vectors in docs_col['colbert_vecs']:\n",
    "        colber_scores.append(model.colbert_score(query_col['colbert_vecs'][0],vectors).numpy())\n",
    "\n",
    "    ## combined+score\n",
    "    all_score = [score[i]+colber_scores[i] for i in range(len(score))]\n",
    "\n",
    "    valid_indices = [unique_indices[idx] for idx,i in enumerate(all_score) if i>threshold]\n",
    "    data = [result['documents'][0][index] for index in valid_indices][:top_results]\n",
    "\n",
    "    return data\n",
    "\n",
    "\n",
    "    "
   ]
  },
  {
   "cell_type": "code",
   "execution_count": 113,
   "id": "20090ec3-8911-45ee-a159-2ba72313a850",
   "metadata": {},
   "outputs": [],
   "source": [
    "from tenacity import retry, wait_random_exponential, stop_after_attempt\n",
    "from tqdm import tqdm\n",
    "from openai import OpenAI, AsyncOpenAI\n",
    "import os\n",
    "from typing import List, Dict, Any, Optional\n",
    "import logging.config\n",
    "logger = logging.getLogger(__name__)\n",
    "\n",
    "\n",
    "AsyncClient = AsyncOpenAI()\n",
    "\n",
    "\n",
    "async def generate_response(params: Dict[str, Any]) -> Any:\n",
    "    \"\"\"Generate response using OpenAI API with error handling and logging.\"\"\"\n",
    "    try:\n",
    "        logger.info(f\"Generating response with model: {params.get('model')}\")\n",
    "        response = await AsyncClient.chat.completions.create(**params)\n",
    "        logger.info(\"Response generated successfully\")\n",
    "        return response\n",
    "    except Exception as e:\n",
    "        logger.error(f\"Error generating response: {str(e)}\", exc_info=True)\n",
    "        return f'Sorry for inconvenience. Please contact support.'\n",
    "\n",
    "@retry(wait=wait_random_exponential(min=1, max=40), stop=stop_after_attempt(3))\n",
    "async def chat_completion_request(messages: List[Dict], model='gpt-4o-mini') -> Any:\n",
    "    \"\"\"Make a chat completion request with retry logic.\"\"\"\n",
    "    try:\n",
    "        params = {\n",
    "            'messages': messages,\n",
    "            'max_tokens': 500,\n",
    "            'model': model,\n",
    "            'temperature': 0,\n",
    "            'response_format': {\"type\": \"json_object\"}\n",
    "        }\n",
    "\n",
    "        response = await generate_response(params)\n",
    "        return response\n",
    "    except Exception as e:\n",
    "        logger.error(f\"Chat completion request failed: {str(e)}\", exc_info=True)\n",
    "        raise\n"
   ]
  },
  {
   "cell_type": "code",
   "execution_count": 117,
   "id": "01676020-8f8f-40e0-baa1-d44fa4aacd05",
   "metadata": {},
   "outputs": [],
   "source": [
    "import json\n",
    "\n",
    "system_instruction = '''Ideal Output Format\n",
    "The output should be a structured JSON blob that question with its corresponding answer.\n",
    "Answers should be word to word match if the question is a word to word match\n",
    "If the answer is low confidence, reply with “Data Not Available'''\n",
    "\n",
    "\n",
    "async def get_answer(query):\n",
    "    # context = get_context(query,n_results=5,top_results=2,threshold = 0.5)\n",
    "    context, context_idx = get_full_context(query, n_results=5, top=2)\n",
    "    user_query = f'Based on below CONTEXT {context} ANSWER the query {query}'\n",
    "    msg = [{\"role\": \"system\", \"content\": system_instruction},{\"role\": \"user\", \"content\": user_query}]\n",
    "    \n",
    "    response = await chat_completion_request(msg)\n",
    "    output = json.loads(response.choices[0].message.content)\n",
    "\n",
    "    return output"
   ]
  },
  {
   "cell_type": "code",
   "execution_count": 120,
   "id": "085374c9-e08a-4b0d-998f-a5e04b6c0dcb",
   "metadata": {},
   "outputs": [],
   "source": [
    "async def chat_completion_request(messages: List[Dict], tools=None, model='gpt-4o-mini', stream=False) -> Any:\n",
    "    \"\"\"Make a chat completion request with retry logic.\"\"\"\n",
    "    try:\n",
    "        params = {\n",
    "            'messages': messages,\n",
    "            'max_tokens': 1500,\n",
    "            'model': model,\n",
    "            'temperature': 0,\n",
    "            'tools': tools,\n",
    "            'tool_choice': \"auto\",\n",
    "            'stream': stream,\n",
    "        }\n",
    "        response = await generate_response(params)\n",
    "        return response\n",
    "    except Exception as e:\n",
    "        logging.error(f\"Chat completion request failed: {str(e)}\", exc_info=True)\n",
    "        raise\n",
    "\n",
    "tools = [\n",
    "    {\n",
    "        \"type\": \"function\",\n",
    "        \"function\": {\n",
    "            \"name\": \"get_answer\",\n",
    "            \"description\": \"Use this function to get answers based on context documents from database to user questions. The documents are purely based on user db.\",\n",
    "            \"parameters\": {\n",
    "                \"type\": \"object\",\n",
    "                \"properties\": {\n",
    "                    \"query\": {\n",
    "                        \"type\": \"string\",\n",
    "                        \"description\": \"User query in string.\",\n",
    "                    }\n",
    "                },\n",
    "                \"required\": [\"query\"],\n",
    "            },\n",
    "        },\n",
    "    },\n",
    "]\n",
    "\n",
    "system_prompt = '''\n",
    "Your task is to answer user questions. The user can ask a single question or multiple questions.\n",
    "You have access to the get_context tool to return answers based on user single/multiple questions.\n",
    "Return your thoughts if access database, ask user to wait if needed.\n",
    "'''\n"
   ]
  },
  {
   "cell_type": "code",
   "execution_count": 122,
   "id": "2c022280-baef-4f1b-8a9c-7bfdd59f56b2",
   "metadata": {},
   "outputs": [],
   "source": [
    "system_msg = [{\"role\": \"system\", \"content\": system_prompt}]\n",
    "user_msg = [{\"role\": \"user\", \"content\": query}]\n",
    "feed_msg = system_msg + user_msg\n",
    "\n",
    "chat_answer = await chat_completion_request(feed_msg, tools=tools, stream=False)"
   ]
  },
  {
   "cell_type": "code",
   "execution_count": 127,
   "id": "625f1702-7a1f-42b8-adb6-3ce5b01f4326",
   "metadata": {},
   "outputs": [
    {
     "data": {
      "text/plain": [
       "ChatCompletion(id='chatcmpl-AnWOX5Hx2akcorGTHZ4Vopa5jdq8m', choices=[Choice(finish_reason='tool_calls', index=0, logprobs=None, message=ChatCompletionMessage(content=None, refusal=None, role='assistant', audio=None, function_call=None, tool_calls=[ChatCompletionMessageToolCall(id='call_uM2x01E7rKvP4JxcM28y9Py3', function=Function(arguments='{\"query\":\"termination policies at Zania Inc.\"}', name='get_answer'), type='function')]))], created=1736365961, model='gpt-4o-mini-2024-07-18', object='chat.completion', service_tier=None, system_fingerprint='fp_0aa8d3e20b', usage=CompletionUsage(completion_tokens=21, prompt_tokens=217, total_tokens=238, completion_tokens_details=CompletionTokensDetails(accepted_prediction_tokens=0, audio_tokens=0, reasoning_tokens=0, rejected_prediction_tokens=0), prompt_tokens_details=PromptTokensDetails(audio_tokens=0, cached_tokens=0)))"
      ]
     },
     "execution_count": 127,
     "metadata": {},
     "output_type": "execute_result"
    }
   ],
   "source": [
    "chat_answer"
   ]
  },
  {
   "cell_type": "code",
   "execution_count": 124,
   "id": "dede1dd7-2bb2-4372-91f9-849f82bb57f3",
   "metadata": {},
   "outputs": [
    {
     "data": {
      "text/plain": [
       "CompletionUsage(completion_tokens=21, prompt_tokens=217, total_tokens=238, completion_tokens_details=CompletionTokensDetails(accepted_prediction_tokens=0, audio_tokens=0, reasoning_tokens=0, rejected_prediction_tokens=0), prompt_tokens_details=PromptTokensDetails(audio_tokens=0, cached_tokens=0))"
      ]
     },
     "execution_count": 124,
     "metadata": {},
     "output_type": "execute_result"
    }
   ],
   "source": [
    "chat_answer.usage"
   ]
  },
  {
   "cell_type": "code",
   "execution_count": 129,
   "id": "b0ba952b-717d-482d-89d8-2b76576e1f8c",
   "metadata": {},
   "outputs": [
    {
     "data": {
      "text/plain": [
       "238"
      ]
     },
     "execution_count": 129,
     "metadata": {},
     "output_type": "execute_result"
    }
   ],
   "source": [
    "chat_answer.usage.total_tokens"
   ]
  },
  {
   "cell_type": "code",
   "execution_count": 126,
   "id": "22fb9909-d0ad-448b-ae19-144471a73d51",
   "metadata": {},
   "outputs": [
    {
     "data": {
      "text/plain": [
       "ChatCompletionMessage(content=None, refusal=None, role='assistant', audio=None, function_call=None, tool_calls=[ChatCompletionMessageToolCall(id='call_uM2x01E7rKvP4JxcM28y9Py3', function=Function(arguments='{\"query\":\"termination policies at Zania Inc.\"}', name='get_answer'), type='function')])"
      ]
     },
     "execution_count": 126,
     "metadata": {},
     "output_type": "execute_result"
    }
   ],
   "source": [
    "chat_answer.choices[0].message"
   ]
  },
  {
   "cell_type": "code",
   "execution_count": 128,
   "id": "230a799f-eb46-417a-8817-6069de6a9ae3",
   "metadata": {},
   "outputs": [
    {
     "data": {
      "text/plain": [
       "[ChatCompletionMessageToolCall(id='call_uM2x01E7rKvP4JxcM28y9Py3', function=Function(arguments='{\"query\":\"termination policies at Zania Inc.\"}', name='get_answer'), type='function')]"
      ]
     },
     "execution_count": 128,
     "metadata": {},
     "output_type": "execute_result"
    }
   ],
   "source": [
    "chat_answer.choices[0].message.tool_calls"
   ]
  },
  {
   "cell_type": "code",
   "execution_count": null,
   "id": "1aa0d7cc-5ad1-4a50-addc-bee04cf6fa64",
   "metadata": {},
   "outputs": [],
   "source": [
    "response = await chat_completion_request(msg)"
   ]
  },
  {
   "cell_type": "code",
   "execution_count": 119,
   "id": "db70b3ef-c94a-44a9-b229-eb8cc0674c57",
   "metadata": {},
   "outputs": [
    {
     "ename": "NameError",
     "evalue": "name 'questions' is not defined",
     "output_type": "error",
     "traceback": [
      "\u001b[0;31m---------------------------------------------------------------------------\u001b[0m",
      "\u001b[0;31mNameError\u001b[0m                                 Traceback (most recent call last)",
      "Cell \u001b[0;32mIn[119], line 1\u001b[0m\n\u001b[0;32m----> 1\u001b[0m \u001b[38;5;28;01mfor\u001b[39;00m query \u001b[38;5;129;01min\u001b[39;00m questions:\n\u001b[1;32m      2\u001b[0m     \u001b[38;5;28mprint\u001b[39m(\u001b[38;5;124m'\u001b[39m\u001b[38;5;124m###\u001b[39m\u001b[38;5;124m'\u001b[39m\u001b[38;5;241m*\u001b[39m\u001b[38;5;241m25\u001b[39m)\n\u001b[1;32m      3\u001b[0m     \u001b[38;5;28mprint\u001b[39m(query)\n",
      "\u001b[0;31mNameError\u001b[0m: name 'questions' is not defined"
     ]
    }
   ],
   "source": [
    "for query in questions:\n",
    "    print('###'*25)\n",
    "    print(query)\n",
    "    ans = await get_answer(query)\n",
    "    print(ans['answer'])\n",
    "    "
   ]
  },
  {
   "cell_type": "code",
   "execution_count": 82,
   "id": "3e6d981f-66e3-4326-bdae-ee068b7e21de",
   "metadata": {},
   "outputs": [
    {
     "data": {
      "text/plain": [
       "[\"requests for vacation when possible, taking business needs into consideration. When multiple employees request the same time off, their [[length of employment/seniority/collective-bargaining agreement]] may determine priority in scheduling vacation times. You must take vacation in increments of at least [[# of hours/days]]. _During a Leave of Absence_ The Company may require you to use any unused vacation during disability or family medical leave, or any other leave of absence, where permissible under local, state, and federal law. [[EMPLOYERS WHO USE AN ACCRUAL METHOD MUST ADD THE FOLLOWING LANGUAGE: You will not accrue vacation during unpaid leaves of absence, or other periods of inactive service, unless vacation accrual is required by applicable federal, state, or local law.]] _Carryover_ [[EMPLOYERS MUST CHOOSE ONE:]] [[Unused vacation can be carried over to the following year [You may want to explain conditions for carryover: e.g., on or about your anniversary date/at the beginning of the following [calendar/fiscal] year].]] [[The Company may elect to offer payment for the unused time [on or about your anniversary date/at the beginning of the following [calendar/fiscal] year].]] [[OR]] [[OPTIONAL LANGUAGE FOR ALL STATES EXCEPT CALIFORNIA, COLORADO, MONTANA, AND NEBRASKA. DO **NOT USE THIS LANGUAGE FOR CALIFORNIA, COLORADO, MONTANA, OR NEBRASKA HANDBOOKS.]]** [[You may not carry over unused vacation to the following year. Any unused vacation will be forfeited [on or about your anniversary date/at the end of the [calendar/fiscal] year].]] _Separation of Employment_ Upon separation of employment for any reason, you will [[forfeit any earned but unused [vacation time] unless state law dictates otherwise/will be paid for earned but unused [vacation time].]] ----- #### 7.8 Workers Compensation Insurance Workers' compensation is a no-fault system designed to provide benefits to all employees for work-related injuries. Workers' compensation insurance coverage is paid for by employers and governed by state law. The workers' compensation system provides for coverage of medical treatment and expenses, occupational disability leave, and rehabilitation services, as well as payment for lost wages due to work related injuries. If you are injured on the job while working at Zania, Inc., no matter how slightly, you are to report the incident immediately to your Manager. Consistent with applicable state law, failure to report an injury within a reasonable period of time could jeopardize your claim for benefits. To receive workers' compensation benefits, notify your Manager immediately of your claim. If your injury is the result of an on-the-job accident, you must fill out an accident report. You will be required to submit a medical release before you can return to work. ## 8.0 Safety and Loss Prevention #### 8.1 Drug and Alcohol Policy Zania, Inc. is committed to providing a safe, healthy, and productive work environment. Consistent with this commitment, it is the intent of the Company to maintain a drug and alcohol-free workplace. Being under the influence of alcohol, illegal drugs (as classified under federal, state, or local laws), or other impairing substances while on the job may pose a serious health and safety risk to others, and will not\"]"
      ]
     },
     "execution_count": 82,
     "metadata": {},
     "output_type": "execute_result"
    }
   ],
   "source": [
    "get_context(query,n_results=5,top_results=1,threshold = 0.5)"
   ]
  },
  {
   "cell_type": "code",
   "execution_count": 5,
   "id": "dceab23f-7732-4ab0-98b7-282c2952dc6a",
   "metadata": {},
   "outputs": [],
   "source": [
    "questions = [\n",
    "    'What is the name of the company?',\n",
    "\n",
    "'Who is the CEO of the company?',\n",
    "\n",
    "'What is their vacation policy?',\n",
    "\n",
    "'What is the termination policy?']"
   ]
  },
  {
   "cell_type": "code",
   "execution_count": 81,
   "id": "46789238-a474-442e-8b7f-438f71f574c2",
   "metadata": {},
   "outputs": [
    {
     "data": {
      "text/plain": [
       "'What is their vacation policy?'"
      ]
     },
     "execution_count": 81,
     "metadata": {},
     "output_type": "execute_result"
    }
   ],
   "source": [
    "query"
   ]
  },
  {
   "cell_type": "code",
   "execution_count": 8,
   "id": "fb2050b8-103a-4116-a2a5-6c8eb3b2e3b5",
   "metadata": {},
   "outputs": [
    {
     "name": "stdout",
     "output_type": "stream",
     "text": [
      "\"What is the name of the company?\" \"Who is the CEO of the company?\" \"What is their vacation policy?\" \"What is the termination policy?\" "
     ]
    }
   ],
   "source": [
    "for q in questions:\n",
    "    print(f'\"{q}\"',end=' ')"
   ]
  },
  {
   "cell_type": "code",
   "execution_count": 112,
   "id": "57433613-f367-4ba9-8955-dfda5012faae",
   "metadata": {},
   "outputs": [
    {
     "data": {
      "text/plain": [
       "'What are the possible ways a person can be terminated from Zania Inc.? For example, does the company outline termination due to performance issues, misconduct, or violation of company policies? Are there provisions for termination during probation periods, layoffs, or organizational restructuring? Additionally, does Zania Inc. have specific clauses for termination due to ethical breaches, conflict of interest, or redundancy in roles? Please include details about notice periods, severance pay, and any appeals process, if applicable.'"
      ]
     },
     "execution_count": 112,
     "metadata": {},
     "output_type": "execute_result"
    }
   ],
   "source": [
    "\"What are the possible ways a person can be terminated from Zania Inc.? For example, does the company outline termination due to performance issues, misconduct, or violation of company policies? Are there provisions for termination during probation periods, layoffs, or organizational restructuring? Additionally, does Zania Inc. have specific clauses for termination due to ethical breaches, conflict of interest, or redundancy in roles? Please include details about notice periods, severance pay, and any appeals process, if applicable.\""
   ]
  },
  {
   "cell_type": "code",
   "execution_count": 130,
   "id": "51c15301-49f6-428f-a91b-457a55313cbb",
   "metadata": {},
   "outputs": [
    {
     "data": {
      "text/plain": [
       "['pdf_path', 'handbook.pdf']"
      ]
     },
     "execution_count": 130,
     "metadata": {},
     "output_type": "execute_result"
    }
   ],
   "source": [
    "client.list_collections()"
   ]
  },
  {
   "cell_type": "code",
   "execution_count": null,
   "id": "9f4e1f71-ac0d-489d-828a-566d4c2c057a",
   "metadata": {},
   "outputs": [],
   "source": []
  }
 ],
 "metadata": {
  "kernelspec": {
   "display_name": "Python 3 (ipykernel)",
   "language": "python",
   "name": "python3"
  },
  "language_info": {
   "codemirror_mode": {
    "name": "ipython",
    "version": 3
   },
   "file_extension": ".py",
   "mimetype": "text/x-python",
   "name": "python",
   "nbconvert_exporter": "python",
   "pygments_lexer": "ipython3",
   "version": "3.10.12"
  }
 },
 "nbformat": 4,
 "nbformat_minor": 5
}
